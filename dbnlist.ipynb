{
 "cells": [
  {
   "cell_type": "markdown",
   "id": "3834f027-789d-497a-b062-8330417f4da3",
   "metadata": {},
   "source": [
    "# dbnlist"
   ]
  },
  {
   "cell_type": "markdown",
   "id": "d7ebf5d6-e970-4635-af7b-116fbb798222",
   "metadata": {},
   "source": [
    "Trying to pull authors from the DBNL linked data resources.\n",
    "\n",
    "Anthe - 2024-11-29"
   ]
  },
  {
   "cell_type": "markdown",
   "id": "229e4818-9dbe-4006-9a97-674035b4fe8c",
   "metadata": {},
   "source": [
    "## SPARQL data retrieval"
   ]
  },
  {
   "cell_type": "markdown",
   "id": "aba10327-cfb1-4f7f-bcaf-00c010170de0",
   "metadata": {},
   "source": [
    "We pull all data from the DBNL linked data resources, so we can further process it. I made this SPARQL query several months ago, and I absolutely don't remember anything about it. I just know it works!"
   ]
  },
  {
   "cell_type": "code",
   "execution_count": 26,
   "id": "3b5575d0-e292-49d2-8abd-617ecc719aac",
   "metadata": {},
   "outputs": [
    {
     "name": "stdout",
     "output_type": "stream",
     "text": [
      "Requirement already satisfied: SPARQLWrapper in ./venv/lib/python3.10/site-packages (2.0.0)\n",
      "Requirement already satisfied: rdflib>=6.1.1 in ./venv/lib/python3.10/site-packages (from SPARQLWrapper) (7.1.1)\n",
      "Requirement already satisfied: isodate<1.0.0,>=0.7.2 in ./venv/lib/python3.10/site-packages (from rdflib>=6.1.1->SPARQLWrapper) (0.7.2)\n",
      "Requirement already satisfied: pyparsing<4,>=2.1.0 in ./venv/lib/python3.10/site-packages (from rdflib>=6.1.1->SPARQLWrapper) (3.2.0)\n",
      "Requirement already satisfied: pandas in ./venv/lib/python3.10/site-packages (2.2.3)\n",
      "Requirement already satisfied: pytz>=2020.1 in ./venv/lib/python3.10/site-packages (from pandas) (2024.2)\n",
      "Requirement already satisfied: numpy>=1.22.4 in ./venv/lib/python3.10/site-packages (from pandas) (2.1.3)\n",
      "Requirement already satisfied: python-dateutil>=2.8.2 in ./venv/lib/python3.10/site-packages (from pandas) (2.9.0.post0)\n",
      "Requirement already satisfied: tzdata>=2022.7 in ./venv/lib/python3.10/site-packages (from pandas) (2024.2)\n",
      "Requirement already satisfied: six>=1.5 in ./venv/lib/python3.10/site-packages (from python-dateutil>=2.8.2->pandas) (1.16.0)\n"
     ]
    }
   ],
   "source": [
    "!pip install SPARQLWrapper\n",
    "!pip install pandas"
   ]
  },
  {
   "cell_type": "code",
   "execution_count": 27,
   "id": "df176ab5-4e66-4cbc-a1ae-5ef819b1b0be",
   "metadata": {},
   "outputs": [],
   "source": [
    "from SPARQLWrapper import SPARQLWrapper, JSON"
   ]
  },
  {
   "cell_type": "code",
   "execution_count": 28,
   "id": "ad6518a2-b36b-49c9-9b53-3dc35cd2508f",
   "metadata": {},
   "outputs": [],
   "source": [
    "def run_query(query):\n",
    "    sparql = SPARQLWrapper(\"http://data.bibliotheken.nl/sparql\")\n",
    "    sparql.setQuery(query)\n",
    "    sparql.setReturnFormat(JSON)\n",
    "    results = sparql.query().convert()\n",
    "    \n",
    "    return results[\"results\"][\"bindings\"]"
   ]
  },
  {
   "cell_type": "code",
   "execution_count": 29,
   "id": "e786e2de-359e-407c-9930-2512caab7fa5",
   "metadata": {},
   "outputs": [],
   "source": [
    "find_authors = \"\"\"\n",
    "    PREFIX dbnlt:<http://data.bibliotheken.nl/id/dataset/dbnla>\n",
    "    PREFIX schema:<http://schema.org/>\n",
    "    SELECT DISTINCT\n",
    "        ?s\n",
    "        ?name\n",
    "        ?identifier\n",
    "        ?author_given_name\n",
    "        ?author_family_name\n",
    "        ?occupation\n",
    "        ?birthPlace\n",
    "        ?birthDate\n",
    "        ?deathPlace\n",
    "        ?deathDate\n",
    "        ?gender\n",
    "        ?affiliation\n",
    "        ?alumniOf\n",
    "        ?award\n",
    "        ?children\n",
    "        ?colleague\n",
    "        ?jobTitle\n",
    "        ?nationality\n",
    "        ?parent\n",
    "        ?spouse\n",
    "        (group_concat(distinct ?alternateName ; separator = \"#SEP#\") AS ?alternateNames) WHERE {\n",
    "        ?s schema:mainEntityOfPage/schema:isPartOf <http://data.bibliotheken.nl/id/dataset/dbnla> .\n",
    "        OPTIONAL { ?s schema:name ?name . }\n",
    "        OPTIONAL { ?s schema:identifier ?identifier . }\n",
    "        OPTIONAL { ?s schema:givenName ?author_given_name . }\n",
    "        OPTIONAL { ?s schema:familyName ?author_family_name . }\n",
    "        OPTIONAL { ?s schema:hasOccupation ?occupation . }\n",
    "        OPTIONAL { ?s schema:birthPlace ?birthPlace . }\n",
    "        OPTIONAL { ?s schema:deathPlace ?deathPlace . }\n",
    "        OPTIONAL { ?s schema:birthDate ?birthDate . }\n",
    "        OPTIONAL { ?s schema:deathDate ?deathDate . }\n",
    "        OPTIONAL { ?s schema:gender ?gender . }\n",
    "        OPTIONAL { ?s schema:alternateName ?alternateName . }\n",
    "        OPTIONAL { ?s schema:affiliation ?affiliation . }\n",
    "        OPTIONAL { ?s schema:alumniOf ?alumniOf . }\n",
    "        OPTIONAL { ?s schema:award ?award . }\n",
    "        OPTIONAL { ?s schema:children ?children . }\n",
    "        OPTIONAL { ?s schema:colleague ?colleague . }\n",
    "        OPTIONAL { ?s schema:follows ?follows . }\n",
    "        OPTIONAL { ?s schema:funder ?funder . }\n",
    "        OPTIONAL { ?s schema:funding ?funding . }\n",
    "        OPTIONAL { ?s schema:height ?height . }\n",
    "        OPTIONAL { ?s schema:jobTitle ?jobTitle . }\n",
    "        OPTIONAL { ?s schema:knows ?knows . }\n",
    "        OPTIONAL { ?s schema:knowsLanguage ?knowsLanguage . }\n",
    "        OPTIONAL { ?s schema:nationality ?nationality . }\n",
    "        OPTIONAL { ?s schema:parent ?parent . }\n",
    "        OPTIONAL { ?s schema:spouse ?spouse . }\n",
    "    }\n",
    "\"\"\""
   ]
  },
  {
   "cell_type": "code",
   "execution_count": 30,
   "id": "06dab621",
   "metadata": {},
   "outputs": [
    {
     "data": {
      "text/plain": [
       "120576"
      ]
     },
     "execution_count": 30,
     "metadata": {},
     "output_type": "execute_result"
    }
   ],
   "source": [
    "authors = run_query(find_authors)\n",
    "len(authors)"
   ]
  },
  {
   "cell_type": "markdown",
   "id": "db7e02c4-b48d-478b-bf70-986ff89d7e35",
   "metadata": {},
   "source": [
    "## Data processing"
   ]
  },
  {
   "cell_type": "code",
   "execution_count": 31,
   "id": "8508dba2-4e6c-41f6-a936-bb73db0833a7",
   "metadata": {},
   "outputs": [],
   "source": [
    "def get_key_value(sparql_object, key_name):\n",
    "    try:\n",
    "        return sparql_object[key_name][\"value\"]\n",
    "    except:\n",
    "        return None"
   ]
  },
  {
   "cell_type": "code",
   "execution_count": 34,
   "id": "d882e83e-108b-4d7c-bc1c-dbc4e2a662a7",
   "metadata": {},
   "outputs": [],
   "source": [
    "def sparql_to_jsonl(sparql_objects, is_title=True):\n",
    "    works = []\n",
    "    \n",
    "    for sparql_object in sparql_objects:        \n",
    "        name = get_key_value(sparql_object, \"name\")\n",
    "        identifier = get_key_value(sparql_object, \"s\").replace(\"http://data.bibliotheken.nl/id/nbt/\", \"\") \\\n",
    "                                                      .replace(\"http://data.bibliotheken.nl/id/dbnla/\", \"\")\n",
    "\n",
    "        author_given_name = get_key_value(sparql_object, \"author_given_name\")\n",
    "        author_family_name = get_key_value(sparql_object, \"author_family_name\")\n",
    "        alternate_names = get_key_value(sparql_object, \"alternateNames\")\n",
    "\n",
    "        if (alternate_names is not None):\n",
    "            alternate_names = alternate_names.split(\"#SEP#\")\n",
    "\n",
    "        occupation = get_key_value(sparql_object, \"occupation\")\n",
    "        birthPlace = get_key_value(sparql_object, \"birthPlace\")\n",
    "        birthDate = get_key_value(sparql_object, \"birthDate\")\n",
    "        deathPlace = get_key_value(sparql_object, \"deathPlace\")\n",
    "        deathDate = get_key_value(sparql_object, \"deathDate\")\n",
    "        gender = get_key_value(sparql_object, \"gender\")\n",
    "\n",
    "        if gender is not None:\n",
    "            gender = gender.replace(\"http://schema.org/\", \"\").lower()\n",
    "\n",
    "        affiliation = get_key_value(sparql_object, \"affiliation\")\n",
    "        alumniOf = get_key_value(sparql_object, \"alumniOf\")\n",
    "        award = get_key_value(sparql_object, \"award\")\n",
    "        children = get_key_value(sparql_object, \"children\")\n",
    "        colleague = get_key_value(sparql_object, \"colleague\")\n",
    "        jobTitle = get_key_value(sparql_object, \"jobTitle\")\n",
    "        nationality = get_key_value(sparql_object, \"nationality\")\n",
    "        parent = get_key_value(sparql_object, \"parent\")\n",
    "        spouse = get_key_value(sparql_object, \"spouse\")\n",
    "        \n",
    "        work = { \"name\": name,\n",
    "                 \"identifier\": identifier, \n",
    "                 #\"genres\": genres,\n",
    "                 \"author_given_name\": author_given_name,\n",
    "                 \"author_family_name\": author_family_name,\n",
    "                 \"alternate_names\": alternate_names,\n",
    "                 \"occupation\": occupation,\n",
    "                 \"birthPlace\": birthPlace,\n",
    "                 \"birthDate\": birthDate,\n",
    "                 \"deathPlace\": deathPlace,\n",
    "                 \"deathDate\": deathDate,\n",
    "                 \"gender\": gender,\n",
    "                 \"affiliation\": affiliation,\n",
    "                 \"alumniOf\": alumniOf,\n",
    "                 \"award\": award,\n",
    "                 \"children\": children,\n",
    "                 \"colleague\": colleague,\n",
    "                 \"jobTitle\": jobTitle,\n",
    "                 \"nationality\": nationality,\n",
    "                 \"parent\": parent,\n",
    "                 \"spouse\": spouse\n",
    "        }\n",
    "        \n",
    "        if is_title:\n",
    "            author_identifier = get_key_value(sparql_object, \"author\").replace(\"http://data.bibliotheken.nl/id/thes/\", \"\")\n",
    "            work[\"author_identifier\"] = author_identifier\n",
    "        \n",
    "        works.append(work)\n",
    "        \n",
    "    return works"
   ]
  },
  {
   "cell_type": "code",
   "execution_count": 35,
   "id": "1e2286d1",
   "metadata": {},
   "outputs": [],
   "source": [
    "authors_jsonl = sparql_to_jsonl(authors, is_title=False)"
   ]
  },
  {
   "cell_type": "code",
   "execution_count": 36,
   "id": "ff9e332f",
   "metadata": {},
   "outputs": [
    {
     "data": {
      "text/plain": [
       "120576"
      ]
     },
     "execution_count": 36,
     "metadata": {},
     "output_type": "execute_result"
    }
   ],
   "source": [
    "len(authors_jsonl)"
   ]
  },
  {
   "cell_type": "markdown",
   "id": "9843a1e5-52a4-4d34-9c96-2fba149e730e",
   "metadata": {},
   "source": [
    "## Data output"
   ]
  },
  {
   "cell_type": "markdown",
   "id": "2da7bf82",
   "metadata": {},
   "source": [
    "### As data frame (CSV)"
   ]
  },
  {
   "cell_type": "code",
   "execution_count": 37,
   "id": "3d68dfbb-9745-4ef2-86aa-f249a59df041",
   "metadata": {},
   "outputs": [],
   "source": [
    "import pandas as pd"
   ]
  },
  {
   "cell_type": "code",
   "execution_count": 38,
   "id": "eff40084",
   "metadata": {},
   "outputs": [],
   "source": [
    "output_df = pd.DataFrame.from_records(authors_jsonl)\n",
    "output_df['alternate_names'] = output_df['alternate_names'].apply(lambda x: '#SEP#'.join(map(str, x)) if isinstance(x, list) else x)\n",
    "output_df.to_csv(\"auteurs.csv\")"
   ]
  },
  {
   "cell_type": "markdown",
   "id": "e4afc4a1",
   "metadata": {},
   "source": [
    "### As JSONL (JSONL)"
   ]
  },
  {
   "cell_type": "code",
   "execution_count": 39,
   "id": "a0b0216d",
   "metadata": {},
   "outputs": [],
   "source": [
    "import json\n",
    "import os\n",
    "\n",
    "def write_works_jsonl(works, filename):\n",
    "    if os.path.exists(filename):\n",
    "        os.remove(filename)\n",
    "    \n",
    "    with open(filename, \"at\") as writer:\n",
    "        for work in works:\n",
    "            writer.write(json.dumps(work) + \"\\n\")"
   ]
  },
  {
   "cell_type": "code",
   "execution_count": 40,
   "id": "9f7a475f",
   "metadata": {},
   "outputs": [],
   "source": [
    "write_works_jsonl(authors_jsonl, \"auteurs.jsonl\")"
   ]
  }
 ],
 "metadata": {
  "kernelspec": {
   "display_name": "venv",
   "language": "python",
   "name": "python3"
  },
  "language_info": {
   "codemirror_mode": {
    "name": "ipython",
    "version": 3
   },
   "file_extension": ".py",
   "mimetype": "text/x-python",
   "name": "python",
   "nbconvert_exporter": "python",
   "pygments_lexer": "ipython3",
   "version": "3.10.12"
  }
 },
 "nbformat": 4,
 "nbformat_minor": 5
}
